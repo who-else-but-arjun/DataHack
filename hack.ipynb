{
 "cells": [
  {
   "cell_type": "code",
   "execution_count": 9,
   "metadata": {},
   "outputs": [],
   "source": [
    "import pandas as pd\n",
    "\n",
    "train = pd.read_csv('training_set_features.csv')\n",
    "train_labels = pd.read_csv('training_set_labels.csv')\n",
    "test = pd.read_csv('test_set_features.csv')\n",
    "train = train.merge(train_labels, on='respondent_id')"
   ]
  },
  {
   "cell_type": "code",
   "execution_count": 10,
   "metadata": {},
   "outputs": [],
   "source": [
    "from sklearn.impute import SimpleImputer\n",
    "\n",
    "X = train.drop(columns=['respondent_id', 'xyz_vaccine', 'seasonal_vaccine'])\n",
    "y_xyz = train[['xyz_vaccine']].values\n",
    "y_s = train[['seasonal_vaccine']].values\n",
    "X_test = test.drop(columns=['respondent_id'])\n",
    "\n",
    "imputer = SimpleImputer(strategy='most_frequent')\n",
    "X_i = imputer.fit_transform(X)\n",
    "X_test_i = imputer.transform(X_test)\n",
    "X_i = pd.DataFrame(X_i, columns=X.columns)\n",
    "X_test_i = pd.DataFrame(X_test_i, columns=X_test.columns)"
   ]
  },
  {
   "cell_type": "code",
   "execution_count": 11,
   "metadata": {},
   "outputs": [],
   "source": [
    "from sklearn.preprocessing import LabelEncoder\n",
    "\n",
    "headings = {}\n",
    "for column in X.columns:\n",
    "    if X[column].dtype == 'object':\n",
    "        le = LabelEncoder()\n",
    "        X_i[column] = le.fit_transform(X_i[column])\n",
    "        X_test_i[column] = le.transform(X_test_i[column])\n",
    "        headings[column] = le"
   ]
  },
  {
   "cell_type": "code",
   "execution_count": 12,
   "metadata": {},
   "outputs": [],
   "source": [
    "from sklearn.preprocessing import StandardScaler\n",
    "\n",
    "scaler = StandardScaler()\n",
    "X = scaler.fit_transform(X_i)\n",
    "X_test = scaler.transform(X_test_i)"
   ]
  },
  {
   "cell_type": "code",
   "execution_count": 20,
   "metadata": {},
   "outputs": [
    {
     "name": "stdout",
     "output_type": "stream",
     "text": [
      "ROC AUC in Logistic 0.8398171059647985\n",
      "[0.08754912 0.04488835 0.44553873 ... 0.13580028 0.05609342 0.55317203]\n"
     ]
    }
   ],
   "source": [
    "from sklearn.linear_model import LogisticRegression\n",
    "from sklearn.metrics import roc_auc_score\n",
    "\n",
    "lr_xyz = LogisticRegression(max_iter=1000)\n",
    "lr_xyz.fit(X_i, y_xyz.ravel())\n",
    "\n",
    "lr_seasonal = LogisticRegression(max_iter=1000)\n",
    "lr_seasonal.fit(X_i, y_s.ravel())\n",
    "\n",
    "roc_auc_xyz_lr = roc_auc_score(y_xyz, lr_xyz.predict_proba(X_i)[:, 1],average='macro')\n",
    "roc_auc_seasonal_lr = roc_auc_score(y_s, lr_seasonal.predict_proba(X_i)[:, 1],average='macro')\n",
    "print(f\"ROC AUC in Logistic {(roc_auc_xyz_lr+roc_auc_seasonal_lr )/2}\")\n",
    "\n",
    "xyz_vaccine_lr = lr_xyz.predict_proba(X_test_i)[:, 1] \n",
    "seasonal_vaccine_lr = lr_seasonal.predict_proba(X_test_i)[:, 1] "
   ]
  },
  {
   "cell_type": "code",
   "execution_count": 24,
   "metadata": {},
   "outputs": [
    {
     "name": "stdout",
     "output_type": "stream",
     "text": [
      "ROC AUC in Guassian Naive Bias is 0.7931017761076203\n",
      "[1.77670661e-02 2.02827471e-06 9.70925489e-01 ... 1.12145017e-03\n",
      " 5.89355481e-02 5.24741491e-01]\n"
     ]
    }
   ],
   "source": [
    "from sklearn.naive_bayes import GaussianNB\n",
    "\n",
    "gnb_xyz = GaussianNB()\n",
    "gnb_seasonal = GaussianNB()\n",
    "\n",
    "gnb_xyz.fit(X_i, y_xyz.ravel())\n",
    "gnb_seasonal.fit(X_i, y_s.ravel())\n",
    "\n",
    "roc_auc_xyz_gnb = roc_auc_score(y_xyz, gnb_xyz.predict_proba(X_i)[:, 1])\n",
    "roc_auc_seasonal_gnb = roc_auc_score(y_s, gnb_seasonal.predict_proba(X_i)[:, 1]) \n",
    "print(f\"ROC AUC in Guassian Naive Bias is {(roc_auc_xyz_gnb+roc_auc_seasonal_gnb)/2}\")\n",
    "\n",
    "xyz_vaccine_gnb = gnb_xyz.predict_proba(X_test_i)[:, 1]\n",
    "seasonal_vaccine_gnb = gnb_seasonal.predict_proba(X_test_i)[:, 1]"
   ]
  },
  {
   "cell_type": "code",
   "execution_count": 17,
   "metadata": {},
   "outputs": [
    {
     "name": "stdout",
     "output_type": "stream",
     "text": [
      "ROC AUC in SVM is 0.8434488200259773\n"
     ]
    }
   ],
   "source": [
    "from sklearn import svm\n",
    "\n",
    "svm_xyz = svm.SVC(probability=True, kernel='rbf')\n",
    "svm_seasonal = svm.SVC(probability=True, kernel='rbf')\n",
    "\n",
    "svm_xyz.fit(X_i, y_xyz.ravel())\n",
    "svm_seasonal.fit(X_i, y_s.ravel())\n",
    "\n",
    "roc_auc_xyz_svm = roc_auc_score(y_xyz, svm_xyz.predict_proba(X_i)[:, 1])\n",
    "roc_auc_seasonal_svm = roc_auc_score(y_s, svm_seasonal.predict_proba(X_i)[:, 1])\n",
    "print(f\"ROC AUC in SVM is {(roc_auc_xyz_svm+roc_auc_seasonal_svm)/2}\")\n",
    "\n",
    "xyz_vaccine_svm = svm_xyz.predict_proba(X_test_i)[:, 1]\n",
    "seasonal_vaccine_svm = svm_seasonal.predict_proba(X_test_i)[:, 1]"
   ]
  },
  {
   "cell_type": "code",
   "execution_count": 19,
   "metadata": {},
   "outputs": [],
   "source": [
    "test_ids = test['respondent_id']\n",
    "submission = pd.DataFrame({\n",
    "    'respondent_id': test_ids,\n",
    "    'xyz_vaccine': xyz_vaccine_lr,\n",
    "    'seasonal_vaccine': seasonal_vaccine_lr\n",
    "})\n",
    "submission.to_csv('submission.csv', index=False)"
   ]
  },
  {
   "cell_type": "code",
   "execution_count": null,
   "metadata": {},
   "outputs": [],
   "source": []
  }
 ],
 "metadata": {
  "kernelspec": {
   "display_name": "base",
   "language": "python",
   "name": "python3"
  },
  "language_info": {
   "codemirror_mode": {
    "name": "ipython",
    "version": 3
   },
   "file_extension": ".py",
   "mimetype": "text/x-python",
   "name": "python",
   "nbconvert_exporter": "python",
   "pygments_lexer": "ipython3",
   "version": "3.11.7"
  }
 },
 "nbformat": 4,
 "nbformat_minor": 2
}
